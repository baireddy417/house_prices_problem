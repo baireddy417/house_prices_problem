{
 "cells": [
  {
   "cell_type": "markdown",
   "metadata": {},
   "source": [
    "# importing required libraries and loading dataset"
   ]
  },
  {
   "cell_type": "code",
   "execution_count": 1,
   "metadata": {},
   "outputs": [],
   "source": [
    "import pandas as pd\n",
    "import matplotlib.pyplot as plt\n",
    "import numpy as np\n",
    "import seaborn as sns\n",
    "from sklearn.model_selection import train_test_split\n",
    "from sklearn.preprocessing import StandardScaler\n",
    "from sklearn.svm import SVR\n",
    "from sklearn.metrics import mean_squared_error, r2_score\n",
    "from sklearn.linear_model import LinearRegression\n",
    "from sklearn.ensemble import RandomForestRegressor\n",
    "from sklearn.model_selection import GridSearchCV, cross_val_score"
   ]
  },
  {
   "cell_type": "code",
   "execution_count": 8,
   "metadata": {},
   "outputs": [
    {
     "data": {
      "text/html": [
       "<div>\n",
       "<style scoped>\n",
       "    .dataframe tbody tr th:only-of-type {\n",
       "        vertical-align: middle;\n",
       "    }\n",
       "\n",
       "    .dataframe tbody tr th {\n",
       "        vertical-align: top;\n",
       "    }\n",
       "\n",
       "    .dataframe thead th {\n",
       "        text-align: right;\n",
       "    }\n",
       "</style>\n",
       "<table border=\"1\" class=\"dataframe\">\n",
       "  <thead>\n",
       "    <tr style=\"text-align: right;\">\n",
       "      <th></th>\n",
       "      <th>ID</th>\n",
       "      <th>OverallQual</th>\n",
       "      <th>GrLivArea</th>\n",
       "      <th>YearBuilt</th>\n",
       "      <th>TotalBsmtSF</th>\n",
       "      <th>FullBath</th>\n",
       "      <th>HalfBath</th>\n",
       "      <th>GarageCars</th>\n",
       "      <th>GarageArea</th>\n",
       "      <th>SalePrice</th>\n",
       "    </tr>\n",
       "  </thead>\n",
       "  <tbody>\n",
       "    <tr>\n",
       "      <th>0</th>\n",
       "      <td>1</td>\n",
       "      <td>5</td>\n",
       "      <td>629</td>\n",
       "      <td>2022</td>\n",
       "      <td>702</td>\n",
       "      <td>1</td>\n",
       "      <td>0</td>\n",
       "      <td>3</td>\n",
       "      <td>627</td>\n",
       "      <td>457528</td>\n",
       "    </tr>\n",
       "    <tr>\n",
       "      <th>1</th>\n",
       "      <td>2</td>\n",
       "      <td>2</td>\n",
       "      <td>2402</td>\n",
       "      <td>1972</td>\n",
       "      <td>251</td>\n",
       "      <td>1</td>\n",
       "      <td>1</td>\n",
       "      <td>3</td>\n",
       "      <td>705</td>\n",
       "      <td>78691</td>\n",
       "    </tr>\n",
       "    <tr>\n",
       "      <th>2</th>\n",
       "      <td>3</td>\n",
       "      <td>7</td>\n",
       "      <td>1547</td>\n",
       "      <td>1968</td>\n",
       "      <td>1224</td>\n",
       "      <td>3</td>\n",
       "      <td>0</td>\n",
       "      <td>1</td>\n",
       "      <td>282</td>\n",
       "      <td>316056</td>\n",
       "    </tr>\n",
       "    <tr>\n",
       "      <th>3</th>\n",
       "      <td>4</td>\n",
       "      <td>1</td>\n",
       "      <td>666</td>\n",
       "      <td>1937</td>\n",
       "      <td>2890</td>\n",
       "      <td>4</td>\n",
       "      <td>1</td>\n",
       "      <td>3</td>\n",
       "      <td>39</td>\n",
       "      <td>213285</td>\n",
       "    </tr>\n",
       "    <tr>\n",
       "      <th>4</th>\n",
       "      <td>5</td>\n",
       "      <td>9</td>\n",
       "      <td>2946</td>\n",
       "      <td>1985</td>\n",
       "      <td>768</td>\n",
       "      <td>2</td>\n",
       "      <td>1</td>\n",
       "      <td>4</td>\n",
       "      <td>848</td>\n",
       "      <td>304717</td>\n",
       "    </tr>\n",
       "  </tbody>\n",
       "</table>\n",
       "</div>"
      ],
      "text/plain": [
       "   ID  OverallQual  GrLivArea  YearBuilt  TotalBsmtSF  FullBath  HalfBath  \\\n",
       "0   1            5        629       2022          702         1         0   \n",
       "1   2            2       2402       1972          251         1         1   \n",
       "2   3            7       1547       1968         1224         3         0   \n",
       "3   4            1        666       1937         2890         4         1   \n",
       "4   5            9       2946       1985          768         2         1   \n",
       "\n",
       "   GarageCars  GarageArea  SalePrice  \n",
       "0           3         627     457528  \n",
       "1           3         705      78691  \n",
       "2           1         282     316056  \n",
       "3           3          39     213285  \n",
       "4           4         848     304717  "
      ]
     },
     "execution_count": 8,
     "metadata": {},
     "output_type": "execute_result"
    }
   ],
   "source": [
    "# loading the dataset\n",
    "dataset=pd.read_csv(\"sample_dataset (1).csv\")\n",
    "dataset.head()"
   ]
  },
  {
   "cell_type": "markdown",
   "metadata": {},
   "source": [
    "# Data preprocessing and EDA"
   ]
  },
  {
   "cell_type": "code",
   "execution_count": 9,
   "metadata": {},
   "outputs": [
    {
     "name": "stdout",
     "output_type": "stream",
     "text": [
      "<class 'pandas.core.frame.DataFrame'>\n",
      "RangeIndex: 1000 entries, 0 to 999\n",
      "Data columns (total 9 columns):\n",
      " #   Column       Non-Null Count  Dtype\n",
      "---  ------       --------------  -----\n",
      " 0   OverallQual  1000 non-null   int64\n",
      " 1   GrLivArea    1000 non-null   int64\n",
      " 2   YearBuilt    1000 non-null   int64\n",
      " 3   TotalBsmtSF  1000 non-null   int64\n",
      " 4   FullBath     1000 non-null   int64\n",
      " 5   HalfBath     1000 non-null   int64\n",
      " 6   GarageCars   1000 non-null   int64\n",
      " 7   GarageArea   1000 non-null   int64\n",
      " 8   SalePrice    1000 non-null   int64\n",
      "dtypes: int64(9)\n",
      "memory usage: 70.4 KB\n",
      "None\n",
      "OverallQual    0\n",
      "GrLivArea      0\n",
      "YearBuilt      0\n",
      "TotalBsmtSF    0\n",
      "FullBath       0\n",
      "HalfBath       0\n",
      "GarageCars     0\n",
      "GarageArea     0\n",
      "SalePrice      0\n",
      "dtype: int64\n"
     ]
    }
   ],
   "source": [
    "# Dropping the index coloumn as it doesnot have any importance with target variable, \n",
    "# also studying the data to see datatypes and check if there are any nan values\n",
    "dataset.drop(columns=[\"ID\"],axis=1,inplace=True)\n",
    "print(dataset.info())\n",
    "print(dataset.isnull().sum())"
   ]
  },
  {
   "cell_type": "code",
   "execution_count": 12,
   "metadata": {},
   "outputs": [
    {
     "data": {
      "text/html": [
       "<div>\n",
       "<style scoped>\n",
       "    .dataframe tbody tr th:only-of-type {\n",
       "        vertical-align: middle;\n",
       "    }\n",
       "\n",
       "    .dataframe tbody tr th {\n",
       "        vertical-align: top;\n",
       "    }\n",
       "\n",
       "    .dataframe thead th {\n",
       "        text-align: right;\n",
       "    }\n",
       "</style>\n",
       "<table border=\"1\" class=\"dataframe\">\n",
       "  <thead>\n",
       "    <tr style=\"text-align: right;\">\n",
       "      <th></th>\n",
       "      <th>OverallQual</th>\n",
       "      <th>GrLivArea</th>\n",
       "      <th>YearBuilt</th>\n",
       "      <th>TotalBsmtSF</th>\n",
       "      <th>FullBath</th>\n",
       "      <th>HalfBath</th>\n",
       "      <th>GarageCars</th>\n",
       "      <th>GarageArea</th>\n",
       "      <th>SalePrice</th>\n",
       "    </tr>\n",
       "  </thead>\n",
       "  <tbody>\n",
       "    <tr>\n",
       "      <th>count</th>\n",
       "      <td>1000.00000</td>\n",
       "      <td>1000.000000</td>\n",
       "      <td>1000.000000</td>\n",
       "      <td>1000.000000</td>\n",
       "      <td>1000.000000</td>\n",
       "      <td>1000.000000</td>\n",
       "      <td>1000.000000</td>\n",
       "      <td>1000.000000</td>\n",
       "      <td>1000.000000</td>\n",
       "    </tr>\n",
       "    <tr>\n",
       "      <th>mean</th>\n",
       "      <td>5.61700</td>\n",
       "      <td>1996.309000</td>\n",
       "      <td>1960.760000</td>\n",
       "      <td>1740.401000</td>\n",
       "      <td>2.506000</td>\n",
       "      <td>0.994000</td>\n",
       "      <td>2.038000</td>\n",
       "      <td>484.786000</td>\n",
       "      <td>270963.885000</td>\n",
       "    </tr>\n",
       "    <tr>\n",
       "      <th>std</th>\n",
       "      <td>2.92076</td>\n",
       "      <td>883.054538</td>\n",
       "      <td>35.169351</td>\n",
       "      <td>1007.061464</td>\n",
       "      <td>1.135453</td>\n",
       "      <td>0.809085</td>\n",
       "      <td>1.406604</td>\n",
       "      <td>282.732658</td>\n",
       "      <td>129264.336981</td>\n",
       "    </tr>\n",
       "    <tr>\n",
       "      <th>min</th>\n",
       "      <td>1.00000</td>\n",
       "      <td>500.000000</td>\n",
       "      <td>1900.000000</td>\n",
       "      <td>0.000000</td>\n",
       "      <td>1.000000</td>\n",
       "      <td>0.000000</td>\n",
       "      <td>0.000000</td>\n",
       "      <td>0.000000</td>\n",
       "      <td>50363.000000</td>\n",
       "    </tr>\n",
       "    <tr>\n",
       "      <th>25%</th>\n",
       "      <td>3.00000</td>\n",
       "      <td>1223.750000</td>\n",
       "      <td>1931.000000</td>\n",
       "      <td>838.750000</td>\n",
       "      <td>1.000000</td>\n",
       "      <td>0.000000</td>\n",
       "      <td>1.000000</td>\n",
       "      <td>239.000000</td>\n",
       "      <td>157806.750000</td>\n",
       "    </tr>\n",
       "    <tr>\n",
       "      <th>50%</th>\n",
       "      <td>6.00000</td>\n",
       "      <td>1966.000000</td>\n",
       "      <td>1963.000000</td>\n",
       "      <td>1733.000000</td>\n",
       "      <td>3.000000</td>\n",
       "      <td>1.000000</td>\n",
       "      <td>2.000000</td>\n",
       "      <td>500.000000</td>\n",
       "      <td>268642.500000</td>\n",
       "    </tr>\n",
       "    <tr>\n",
       "      <th>75%</th>\n",
       "      <td>8.00000</td>\n",
       "      <td>2800.000000</td>\n",
       "      <td>1991.000000</td>\n",
       "      <td>2599.500000</td>\n",
       "      <td>4.000000</td>\n",
       "      <td>2.000000</td>\n",
       "      <td>3.000000</td>\n",
       "      <td>705.500000</td>\n",
       "      <td>385333.250000</td>\n",
       "    </tr>\n",
       "    <tr>\n",
       "      <th>max</th>\n",
       "      <td>10.00000</td>\n",
       "      <td>3499.000000</td>\n",
       "      <td>2022.000000</td>\n",
       "      <td>3499.000000</td>\n",
       "      <td>4.000000</td>\n",
       "      <td>2.000000</td>\n",
       "      <td>4.000000</td>\n",
       "      <td>1000.000000</td>\n",
       "      <td>499208.000000</td>\n",
       "    </tr>\n",
       "  </tbody>\n",
       "</table>\n",
       "</div>"
      ],
      "text/plain": [
       "       OverallQual    GrLivArea    YearBuilt  TotalBsmtSF     FullBath  \\\n",
       "count   1000.00000  1000.000000  1000.000000  1000.000000  1000.000000   \n",
       "mean       5.61700  1996.309000  1960.760000  1740.401000     2.506000   \n",
       "std        2.92076   883.054538    35.169351  1007.061464     1.135453   \n",
       "min        1.00000   500.000000  1900.000000     0.000000     1.000000   \n",
       "25%        3.00000  1223.750000  1931.000000   838.750000     1.000000   \n",
       "50%        6.00000  1966.000000  1963.000000  1733.000000     3.000000   \n",
       "75%        8.00000  2800.000000  1991.000000  2599.500000     4.000000   \n",
       "max       10.00000  3499.000000  2022.000000  3499.000000     4.000000   \n",
       "\n",
       "          HalfBath   GarageCars   GarageArea      SalePrice  \n",
       "count  1000.000000  1000.000000  1000.000000    1000.000000  \n",
       "mean      0.994000     2.038000   484.786000  270963.885000  \n",
       "std       0.809085     1.406604   282.732658  129264.336981  \n",
       "min       0.000000     0.000000     0.000000   50363.000000  \n",
       "25%       0.000000     1.000000   239.000000  157806.750000  \n",
       "50%       1.000000     2.000000   500.000000  268642.500000  \n",
       "75%       2.000000     3.000000   705.500000  385333.250000  \n",
       "max       2.000000     4.000000  1000.000000  499208.000000  "
      ]
     },
     "execution_count": 12,
     "metadata": {},
     "output_type": "execute_result"
    }
   ],
   "source": [
    "# Using describe method we can find the mean and other basic statistics to find how they are scaled\n",
    "dataset.describe()"
   ]
  },
  {
   "cell_type": "markdown",
   "metadata": {},
   "source": [
    "From the above observations we find that there were no missing values and categorical features to handle. Also the numerical coloumns are following different scales"
   ]
  },
  {
   "cell_type": "code",
   "execution_count": 13,
   "metadata": {},
   "outputs": [
    {
     "data": {
      "text/html": [
       "<div>\n",
       "<style scoped>\n",
       "    .dataframe tbody tr th:only-of-type {\n",
       "        vertical-align: middle;\n",
       "    }\n",
       "\n",
       "    .dataframe tbody tr th {\n",
       "        vertical-align: top;\n",
       "    }\n",
       "\n",
       "    .dataframe thead th {\n",
       "        text-align: right;\n",
       "    }\n",
       "</style>\n",
       "<table border=\"1\" class=\"dataframe\">\n",
       "  <thead>\n",
       "    <tr style=\"text-align: right;\">\n",
       "      <th></th>\n",
       "      <th>OverallQual</th>\n",
       "      <th>GrLivArea</th>\n",
       "      <th>YearBuilt</th>\n",
       "      <th>TotalBsmtSF</th>\n",
       "      <th>FullBath</th>\n",
       "      <th>HalfBath</th>\n",
       "      <th>GarageCars</th>\n",
       "      <th>GarageArea</th>\n",
       "      <th>SalePrice</th>\n",
       "    </tr>\n",
       "  </thead>\n",
       "  <tbody>\n",
       "    <tr>\n",
       "      <th>OverallQual</th>\n",
       "      <td>1.000000</td>\n",
       "      <td>0.054348</td>\n",
       "      <td>-0.047398</td>\n",
       "      <td>-0.027117</td>\n",
       "      <td>-0.026321</td>\n",
       "      <td>0.009616</td>\n",
       "      <td>0.001110</td>\n",
       "      <td>-0.019213</td>\n",
       "      <td>-0.023987</td>\n",
       "    </tr>\n",
       "    <tr>\n",
       "      <th>GrLivArea</th>\n",
       "      <td>0.054348</td>\n",
       "      <td>1.000000</td>\n",
       "      <td>-0.001860</td>\n",
       "      <td>-0.043779</td>\n",
       "      <td>0.060206</td>\n",
       "      <td>0.045500</td>\n",
       "      <td>0.030373</td>\n",
       "      <td>0.046051</td>\n",
       "      <td>-0.022882</td>\n",
       "    </tr>\n",
       "    <tr>\n",
       "      <th>YearBuilt</th>\n",
       "      <td>-0.047398</td>\n",
       "      <td>-0.001860</td>\n",
       "      <td>1.000000</td>\n",
       "      <td>0.051829</td>\n",
       "      <td>0.000738</td>\n",
       "      <td>0.050184</td>\n",
       "      <td>-0.001940</td>\n",
       "      <td>0.025297</td>\n",
       "      <td>-0.004240</td>\n",
       "    </tr>\n",
       "    <tr>\n",
       "      <th>TotalBsmtSF</th>\n",
       "      <td>-0.027117</td>\n",
       "      <td>-0.043779</td>\n",
       "      <td>0.051829</td>\n",
       "      <td>1.000000</td>\n",
       "      <td>0.017190</td>\n",
       "      <td>0.037160</td>\n",
       "      <td>0.006063</td>\n",
       "      <td>0.025627</td>\n",
       "      <td>0.031701</td>\n",
       "    </tr>\n",
       "    <tr>\n",
       "      <th>FullBath</th>\n",
       "      <td>-0.026321</td>\n",
       "      <td>0.060206</td>\n",
       "      <td>0.000738</td>\n",
       "      <td>0.017190</td>\n",
       "      <td>1.000000</td>\n",
       "      <td>0.030548</td>\n",
       "      <td>0.016779</td>\n",
       "      <td>-0.021539</td>\n",
       "      <td>0.009416</td>\n",
       "    </tr>\n",
       "    <tr>\n",
       "      <th>HalfBath</th>\n",
       "      <td>0.009616</td>\n",
       "      <td>0.045500</td>\n",
       "      <td>0.050184</td>\n",
       "      <td>0.037160</td>\n",
       "      <td>0.030548</td>\n",
       "      <td>1.000000</td>\n",
       "      <td>0.031865</td>\n",
       "      <td>0.039001</td>\n",
       "      <td>-0.009761</td>\n",
       "    </tr>\n",
       "    <tr>\n",
       "      <th>GarageCars</th>\n",
       "      <td>0.001110</td>\n",
       "      <td>0.030373</td>\n",
       "      <td>-0.001940</td>\n",
       "      <td>0.006063</td>\n",
       "      <td>0.016779</td>\n",
       "      <td>0.031865</td>\n",
       "      <td>1.000000</td>\n",
       "      <td>0.026021</td>\n",
       "      <td>0.024781</td>\n",
       "    </tr>\n",
       "    <tr>\n",
       "      <th>GarageArea</th>\n",
       "      <td>-0.019213</td>\n",
       "      <td>0.046051</td>\n",
       "      <td>0.025297</td>\n",
       "      <td>0.025627</td>\n",
       "      <td>-0.021539</td>\n",
       "      <td>0.039001</td>\n",
       "      <td>0.026021</td>\n",
       "      <td>1.000000</td>\n",
       "      <td>-0.051827</td>\n",
       "    </tr>\n",
       "    <tr>\n",
       "      <th>SalePrice</th>\n",
       "      <td>-0.023987</td>\n",
       "      <td>-0.022882</td>\n",
       "      <td>-0.004240</td>\n",
       "      <td>0.031701</td>\n",
       "      <td>0.009416</td>\n",
       "      <td>-0.009761</td>\n",
       "      <td>0.024781</td>\n",
       "      <td>-0.051827</td>\n",
       "      <td>1.000000</td>\n",
       "    </tr>\n",
       "  </tbody>\n",
       "</table>\n",
       "</div>"
      ],
      "text/plain": [
       "             OverallQual  GrLivArea  YearBuilt  TotalBsmtSF  FullBath  \\\n",
       "OverallQual     1.000000   0.054348  -0.047398    -0.027117 -0.026321   \n",
       "GrLivArea       0.054348   1.000000  -0.001860    -0.043779  0.060206   \n",
       "YearBuilt      -0.047398  -0.001860   1.000000     0.051829  0.000738   \n",
       "TotalBsmtSF    -0.027117  -0.043779   0.051829     1.000000  0.017190   \n",
       "FullBath       -0.026321   0.060206   0.000738     0.017190  1.000000   \n",
       "HalfBath        0.009616   0.045500   0.050184     0.037160  0.030548   \n",
       "GarageCars      0.001110   0.030373  -0.001940     0.006063  0.016779   \n",
       "GarageArea     -0.019213   0.046051   0.025297     0.025627 -0.021539   \n",
       "SalePrice      -0.023987  -0.022882  -0.004240     0.031701  0.009416   \n",
       "\n",
       "             HalfBath  GarageCars  GarageArea  SalePrice  \n",
       "OverallQual  0.009616    0.001110   -0.019213  -0.023987  \n",
       "GrLivArea    0.045500    0.030373    0.046051  -0.022882  \n",
       "YearBuilt    0.050184   -0.001940    0.025297  -0.004240  \n",
       "TotalBsmtSF  0.037160    0.006063    0.025627   0.031701  \n",
       "FullBath     0.030548    0.016779   -0.021539   0.009416  \n",
       "HalfBath     1.000000    0.031865    0.039001  -0.009761  \n",
       "GarageCars   0.031865    1.000000    0.026021   0.024781  \n",
       "GarageArea   0.039001    0.026021    1.000000  -0.051827  \n",
       "SalePrice   -0.009761    0.024781   -0.051827   1.000000  "
      ]
     },
     "execution_count": 13,
     "metadata": {},
     "output_type": "execute_result"
    }
   ],
   "source": [
    "# Correlation between all the features including dependent variable\n",
    "dataset.corr()"
   ]
  },
  {
   "cell_type": "markdown",
   "metadata": {},
   "source": [
    "From the above correlation matrix it is observed that there is no correlation among the variables and no variable is showing any relation with SalePrice variable. So using linear regression models wont be an ideal solution. It would be better to go with Random Forest or Support Vector Regressors"
   ]
  },
  {
   "cell_type": "code",
   "execution_count": 14,
   "metadata": {},
   "outputs": [
    {
     "data": {
      "image/png": "[encoded data removed]",
      "text/plain": [
       "<Figure size 1440x432 with 8 Axes>"
      ]
     },
     "metadata": {
      "needs_background": "light"
     },
     "output_type": "display_data"
    }
   ],
   "source": [
    "'''Seperating the independent features and dependent feature and plotting box plots \n",
    "   for each independent feature to check for any outliers'''\n",
    "X=dataset.iloc[:,:-1]\n",
    "y=dataset.iloc[:,-1]\n",
    "X.plot(\n",
    "    kind='box', \n",
    "    subplots=True, \n",
    "    sharey=False, \n",
    "    figsize=(20, 6)\n",
    ")\n",
    "\n",
    "# increase spacing between subplots\n",
    "plt.subplots_adjust(wspace=5) \n",
    "plt.show()"
   ]
  },
  {
   "cell_type": "markdown",
   "metadata": {},
   "source": [
    "From the boxplots we can see there were no outliers"
   ]
  },
  {
   "cell_type": "code",
   "execution_count": 15,
   "metadata": {},
   "outputs": [],
   "source": [
    "# Standardize the data to bring all features to have same scale\n",
    "scaler = StandardScaler()\n",
    "X = scaler.fit_transform(X)\n"
   ]
  },
  {
   "cell_type": "code",
   "execution_count": 16,
   "metadata": {},
   "outputs": [],
   "source": [
    "# Splitting the dataset for training and testing \n",
    "X_train, X_test, y_train, y_test = train_test_split(X, y, test_size=0.25, random_state=42)"
   ]
  },
  {
   "cell_type": "code",
   "execution_count": 17,
   "metadata": {},
   "outputs": [],
   "source": [
    "# This will be a utility function which helps in calculating the metrics\n",
    "def metrics(y_test,y_pred):\n",
    "    mse=mean_squared_error(y_test,y_pred)\n",
    "    rmse=np.sqrt(mse)\n",
    "    r2score=r2_score(y_test,y_pred)\n",
    "    adjr2 = 1 - (1-r2score)*(len(y_test)-1)/(len(y_test)-X_test.shape[1]-1)\n",
    "    print(\"Mean Squared Error (MSE): \", mse)\n",
    "    print(\"Root Mean Squared Error (RMSE): \", rmse)\n",
    "    print(\"R-squared (R2) Score: \", r2score)\n",
    "    print(\"Adjusted R-squared (R2) Score: \", adjr2)"
   ]
  },
  {
   "cell_type": "markdown",
   "metadata": {},
   "source": [
    "# Training and validating individual models"
   ]
  },
  {
   "cell_type": "code",
   "execution_count": 21,
   "metadata": {},
   "outputs": [
    {
     "name": "stdout",
     "output_type": "stream",
     "text": [
      "Mean Squared Error (MSE):  17434097212.63355\n",
      "Root Mean Squared Error (RMSE):  132038.24147811704\n",
      "R-squared (R2) Score:  -0.03207867039927126\n",
      "Adjusted R-squared (R2) Score:  -0.06633854327559563\n"
     ]
    }
   ],
   "source": [
    "# Running linear regression just to check its metrics but it is not an ideal model\n",
    "regression=LinearRegression()\n",
    "regression.fit(X_train,y_train)\n",
    "y_pred=regression.predict(X_test)\n",
    "metrics(y_test,y_pred)\n"
   ]
  },
  {
   "cell_type": "code",
   "execution_count": 22,
   "metadata": {},
   "outputs": [
    {
     "name": "stdout",
     "output_type": "stream",
     "text": [
      "Mean Squared Error (MSE):  20372696565.99772\n",
      "Root Mean Squared Error (RMSE):  142732.9554307544\n",
      "R-squared (R2) Score:  -0.20604040047718408\n",
      "Adjusted R-squared (R2) Score:  -0.24607493659260937\n"
     ]
    }
   ],
   "source": [
    "# Random Forest regressor\n",
    "regression=RandomForestRegressor(n_estimators=10,max_depth=25, random_state=42)\n",
    "regression.fit(X_train,y_train)\n",
    "y_pred=regression.predict(X_test)\n",
    "metrics(y_test,y_pred)\n"
   ]
  },
  {
   "cell_type": "code",
   "execution_count": 23,
   "metadata": {},
   "outputs": [
    {
     "name": "stdout",
     "output_type": "stream",
     "text": [
      "Mean Squared Error (MSE):  17231815037.566673\n",
      "Root Mean Squared Error (RMSE):  131270.00814187023\n",
      "R-squared (R2) Score:  -0.02010379634974435\n",
      "Adjusted R-squared (R2) Score:  -0.05396616303355328\n"
     ]
    }
   ],
   "source": [
    "# Support Vector regressor\n",
    "regression=SVR(kernel='rbf', C=1.0, epsilon=0.2)\n",
    "regression.fit(X_train,y_train)\n",
    "y_pred=regression.predict(X_test)\n",
    "metrics(y_test,y_pred)"
   ]
  },
  {
   "cell_type": "markdown",
   "metadata": {},
   "source": [
    "Here i had considered three algorithms(Linear regression, Random forest regressor, Support vector machines). Here three algorithms returned poor R square scores stating they haven't learn the patterns in the dataset. \n",
    "\n",
    "Hyper parameter tuning of Random forest regressor and SVM\n"
   ]
  },
  {
   "cell_type": "code",
   "execution_count": 24,
   "metadata": {},
   "outputs": [
    {
     "data": {
      "text/plain": [
       "RandomForestRegressor(max_depth=5, max_features=5, n_estimators=50)"
      ]
     },
     "execution_count": 24,
     "metadata": {},
     "output_type": "execute_result"
    }
   ],
   "source": [
    "# Hyper parameter tuning of Random forest regressor\n",
    "rf_regressor=RandomForestRegressor()\n",
    "param_grid = {'n_estimators': [5,10,30,50,70], 'max_features': [5,7,8], 'max_depth': [5, 10, 20, 30]}\n",
    "grid_search = GridSearchCV(rf_regressor, param_grid, cv=5, \n",
    "                           scoring='neg_mean_squared_error', return_train_score=True)\n",
    "grid_search.fit(X, y)\n",
    "grid_search.best_estimator_"
   ]
  },
  {
   "cell_type": "code",
   "execution_count": 25,
   "metadata": {},
   "outputs": [
    {
     "name": "stdout",
     "output_type": "stream",
     "text": [
      "Mean Squared Error (MSE):  17643544621.033707\n",
      "Root Mean Squared Error (RMSE):  132829.00519477553\n",
      "R-squared (R2) Score:  -0.044477718089768414\n",
      "Adjusted R-squared (R2) Score:  -0.0791491776114206\n"
     ]
    }
   ],
   "source": [
    "# Creating RF regressor with best parameters\n",
    "regression=RandomForestRegressor(max_depth=5, max_features=5, n_estimators=50)\n",
    "regression.fit(X_train,y_train)\n",
    "y_pred=regression.predict(X_test)\n",
    "metrics(y_test,y_pred)\n",
    "\n"
   ]
  },
  {
   "cell_type": "code",
   "execution_count": 26,
   "metadata": {},
   "outputs": [
    {
     "data": {
      "text/plain": [
       "SVR(C=10)"
      ]
     },
     "execution_count": 26,
     "metadata": {},
     "output_type": "execute_result"
    }
   ],
   "source": [
    "# Hyper parameter tuning of SVM regressor\n",
    "svm_regressor=SVR()\n",
    "param_grid = {'C': [0.1, 1, 10],'epsilon': [0.1, 0.2, 0.5],'kernel': ['rbf', 'poly']\n",
    "}\n",
    "grid_search = GridSearchCV(svm_regressor, param_grid, cv=5, \n",
    "                           scoring='neg_mean_squared_error', return_train_score=True)\n",
    "grid_search.fit(X, y)\n",
    "grid_search.best_estimator_"
   ]
  },
  {
   "cell_type": "code",
   "execution_count": 27,
   "metadata": {},
   "outputs": [
    {
     "name": "stdout",
     "output_type": "stream",
     "text": [
      "Mean Squared Error (MSE):  17233476504.442333\n",
      "Root Mean Squared Error (RMSE):  131276.33642222933\n",
      "R-squared (R2) Score:  -0.020202153293785052\n",
      "Adjusted R-squared (R2) Score:  -0.05406778493839193\n"
     ]
    }
   ],
   "source": [
    "regression=SVR(C=10)\n",
    "regression.fit(X_train,y_train)\n",
    "y_pred=regression.predict(X_test)\n",
    "metrics(y_test,y_pred)"
   ]
  },
  {
   "cell_type": "markdown",
   "metadata": {},
   "source": [
    "# Conclusion\n",
    "\n",
    "Here after performing Hyperparameter tuning there is no improvement in scores. Seems to be the data is not relevant for Predicting the target variable Also no feature is having any correlation with target variable. We can add relevant data for increasing the accuracy."
   ]
  },
  {
   "cell_type": "code",
   "execution_count": null,
   "metadata": {},
   "outputs": [],
   "source": []
  }
 ],
 "metadata": {
  "kernelspec": {
   "display_name": "tf",
   "language": "python",
   "name": "python3"
  },
  "language_info": {
   "codemirror_mode": {
    "name": "ipython",
    "version": 3
   },
   "file_extension": ".py",
   "mimetype": "text/x-python",
   "name": "python",
   "nbconvert_exporter": "python",
   "pygments_lexer": "ipython3",
   "version": "3.7.9"
  }
 },
 "nbformat": 4,
 "nbformat_minor": 2
}
